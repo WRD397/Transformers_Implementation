{
 "cells": [
  {
   "cell_type": "code",
   "execution_count": 3,
   "id": "ad1f91cb",
   "metadata": {},
   "outputs": [],
   "source": [
    "import sys\n",
    "import os\n",
    "from dotenv import load_dotenv\n",
    "load_dotenv()\n",
    "ROOT_DIR_PATH = os.environ.get('ROOT_PATH')\n",
    "sys.path.append(os.path.abspath(ROOT_DIR_PATH))  # Adds root directory to sys.path"
   ]
  },
  {
   "cell_type": "code",
   "execution_count": 8,
   "id": "98087105",
   "metadata": {},
   "outputs": [],
   "source": [
    "from util.config_loader import load_config\n",
    "from util.data_loader import DatasetLoader"
   ]
  },
  {
   "cell_type": "code",
   "execution_count": null,
   "id": "5acf579f",
   "metadata": {},
   "outputs": [],
   "source": []
  },
  {
   "cell_type": "code",
   "execution_count": null,
   "id": "2b88f092",
   "metadata": {},
   "outputs": [],
   "source": []
  }
 ],
 "metadata": {
  "kernelspec": {
   "display_name": "_transformers_implementation_py310",
   "language": "python",
   "name": "python3"
  },
  "language_info": {
   "codemirror_mode": {
    "name": "ipython",
    "version": 3
   },
   "file_extension": ".py",
   "mimetype": "text/x-python",
   "name": "python",
   "nbconvert_exporter": "python",
   "pygments_lexer": "ipython3",
   "version": "3.10.12"
  }
 },
 "nbformat": 4,
 "nbformat_minor": 5
}
